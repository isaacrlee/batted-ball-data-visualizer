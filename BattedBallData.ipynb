{
 "cells": [
  {
   "cell_type": "code",
   "execution_count": 1,
   "metadata": {},
   "outputs": [],
   "source": [
    "import matplotlib.pyplot as plt\n",
    "import numpy as np\n",
    "import pandas as pd"
   ]
  },
  {
   "cell_type": "code",
   "execution_count": 2,
   "metadata": {},
   "outputs": [],
   "source": [
    "df = pd.read_excel('BattedBallData.xlsx')"
   ]
  },
  {
   "cell_type": "code",
   "execution_count": 3,
   "metadata": {},
   "outputs": [
    {
     "data": {
      "text/html": [
       "<div>\n",
       "<style scoped>\n",
       "    .dataframe tbody tr th:only-of-type {\n",
       "        vertical-align: middle;\n",
       "    }\n",
       "\n",
       "    .dataframe tbody tr th {\n",
       "        vertical-align: top;\n",
       "    }\n",
       "\n",
       "    .dataframe thead th {\n",
       "        text-align: right;\n",
       "    }\n",
       "</style>\n",
       "<table border=\"1\" class=\"dataframe\">\n",
       "  <thead>\n",
       "    <tr style=\"text-align: right;\">\n",
       "      <th></th>\n",
       "      <th>BATTER_ID</th>\n",
       "      <th>BATTER</th>\n",
       "      <th>PITCHER_ID</th>\n",
       "      <th>PITCHER</th>\n",
       "      <th>GAME_DATE</th>\n",
       "      <th>LAUNCH_ANGLE</th>\n",
       "      <th>EXIT_SPEED</th>\n",
       "      <th>EXIT_DIRECTION</th>\n",
       "      <th>HIT_DISTANCE</th>\n",
       "      <th>HANG_TIME</th>\n",
       "      <th>HIT_SPIN_RATE</th>\n",
       "      <th>PLAY_OUTCOME</th>\n",
       "      <th>VIDEO_LINK</th>\n",
       "    </tr>\n",
       "  </thead>\n",
       "  <tbody>\n",
       "    <tr>\n",
       "      <th>0</th>\n",
       "      <td>475174</td>\n",
       "      <td>Alonso, Yonder</td>\n",
       "      <td>502190</td>\n",
       "      <td>Leake, Mike</td>\n",
       "      <td>2018-04-01</td>\n",
       "      <td>5.072865</td>\n",
       "      <td>82.25887</td>\n",
       "      <td>38.028120</td>\n",
       "      <td>72.89500</td>\n",
       "      <td>0.650</td>\n",
       "      <td>4206.183</td>\n",
       "      <td>Out</td>\n",
       "      <td>https://cvmd.bamnetworks.com/mlb/2018/04/01/e0...</td>\n",
       "    </tr>\n",
       "    <tr>\n",
       "      <th>1</th>\n",
       "      <td>592387</td>\n",
       "      <td>Healy, Ryon</td>\n",
       "      <td>545333</td>\n",
       "      <td>Bauer, Trevor</td>\n",
       "      <td>2018-04-01</td>\n",
       "      <td>-4.772407</td>\n",
       "      <td>103.76580</td>\n",
       "      <td>7.277498</td>\n",
       "      <td>27.81848</td>\n",
       "      <td>0.181</td>\n",
       "      <td>0.000</td>\n",
       "      <td>Out</td>\n",
       "      <td>https://cvmd.bamnetworks.com/mlb/2018/04/01/e0...</td>\n",
       "    </tr>\n",
       "    <tr>\n",
       "      <th>2</th>\n",
       "      <td>543829</td>\n",
       "      <td>Gordon, Dee</td>\n",
       "      <td>545333</td>\n",
       "      <td>Bauer, Trevor</td>\n",
       "      <td>2018-04-01</td>\n",
       "      <td>43.175030</td>\n",
       "      <td>87.28809</td>\n",
       "      <td>-33.080960</td>\n",
       "      <td>279.88180</td>\n",
       "      <td>5.316</td>\n",
       "      <td>4577.965</td>\n",
       "      <td>Out</td>\n",
       "      <td>https://cvmd.bamnetworks.com/mlb/2018/04/01/e0...</td>\n",
       "    </tr>\n",
       "    <tr>\n",
       "      <th>3</th>\n",
       "      <td>516416</td>\n",
       "      <td>Segura, Jean</td>\n",
       "      <td>545333</td>\n",
       "      <td>Bauer, Trevor</td>\n",
       "      <td>2018-04-01</td>\n",
       "      <td>-4.826100</td>\n",
       "      <td>85.95699</td>\n",
       "      <td>22.025790</td>\n",
       "      <td>20.33284</td>\n",
       "      <td>0.155</td>\n",
       "      <td>0.000</td>\n",
       "      <td>Single</td>\n",
       "      <td>https://cvmd.bamnetworks.com/mlb/2018/04/01/e0...</td>\n",
       "    </tr>\n",
       "    <tr>\n",
       "      <th>4</th>\n",
       "      <td>592387</td>\n",
       "      <td>Healy, Ryon</td>\n",
       "      <td>580792</td>\n",
       "      <td>Goody, Nick</td>\n",
       "      <td>2018-04-01</td>\n",
       "      <td>-7.276263</td>\n",
       "      <td>75.25285</td>\n",
       "      <td>-20.377580</td>\n",
       "      <td>17.17714</td>\n",
       "      <td>0.146</td>\n",
       "      <td>0.000</td>\n",
       "      <td>Out</td>\n",
       "      <td>https://cvmd.bamnetworks.com/mlb/2018/04/01/e0...</td>\n",
       "    </tr>\n",
       "  </tbody>\n",
       "</table>\n",
       "</div>"
      ],
      "text/plain": [
       "   BATTER_ID          BATTER  PITCHER_ID        PITCHER  GAME_DATE  \\\n",
       "0     475174  Alonso, Yonder      502190    Leake, Mike 2018-04-01   \n",
       "1     592387     Healy, Ryon      545333  Bauer, Trevor 2018-04-01   \n",
       "2     543829     Gordon, Dee      545333  Bauer, Trevor 2018-04-01   \n",
       "3     516416    Segura, Jean      545333  Bauer, Trevor 2018-04-01   \n",
       "4     592387     Healy, Ryon      580792    Goody, Nick 2018-04-01   \n",
       "\n",
       "   LAUNCH_ANGLE  EXIT_SPEED  EXIT_DIRECTION  HIT_DISTANCE  HANG_TIME  \\\n",
       "0      5.072865    82.25887       38.028120      72.89500      0.650   \n",
       "1     -4.772407   103.76580        7.277498      27.81848      0.181   \n",
       "2     43.175030    87.28809      -33.080960     279.88180      5.316   \n",
       "3     -4.826100    85.95699       22.025790      20.33284      0.155   \n",
       "4     -7.276263    75.25285      -20.377580      17.17714      0.146   \n",
       "\n",
       "   HIT_SPIN_RATE PLAY_OUTCOME  \\\n",
       "0       4206.183          Out   \n",
       "1          0.000          Out   \n",
       "2       4577.965          Out   \n",
       "3          0.000       Single   \n",
       "4          0.000          Out   \n",
       "\n",
       "                                          VIDEO_LINK  \n",
       "0  https://cvmd.bamnetworks.com/mlb/2018/04/01/e0...  \n",
       "1  https://cvmd.bamnetworks.com/mlb/2018/04/01/e0...  \n",
       "2  https://cvmd.bamnetworks.com/mlb/2018/04/01/e0...  \n",
       "3  https://cvmd.bamnetworks.com/mlb/2018/04/01/e0...  \n",
       "4  https://cvmd.bamnetworks.com/mlb/2018/04/01/e0...  "
      ]
     },
     "execution_count": 3,
     "metadata": {},
     "output_type": "execute_result"
    }
   ],
   "source": [
    "df.head()"
   ]
  },
  {
   "cell_type": "code",
   "execution_count": 4,
   "metadata": {},
   "outputs": [],
   "source": [
    "df.to_csv('BattedBallData.csv', index=False)"
   ]
  },
  {
   "cell_type": "code",
   "execution_count": 5,
   "metadata": {},
   "outputs": [],
   "source": [
    "df1 = df.loc[df['PITCHER_ID'] == 545333]"
   ]
  },
  {
   "cell_type": "code",
   "execution_count": 6,
   "metadata": {},
   "outputs": [
    {
     "data": {
      "image/png": "[encoded data removed]",
      "text/plain": [
       "<matplotlib.figure.Figure at 0x1133e5208>"
      ]
     },
     "metadata": {},
     "output_type": "display_data"
    }
   ],
   "source": [
    "plt.scatter(df1['EXIT_SPEED'], df1['LAUNCH_ANGLE'])\n",
    "plt.xlabel('Exit Speed')\n",
    "plt.ylabel('Launch Angle')\n",
    "plt.axhline()\n",
    "plt.show()"
   ]
  },
  {
   "cell_type": "code",
   "execution_count": 7,
   "metadata": {},
   "outputs": [
    {
     "data": {
      "image/png": "[encoded data removed]",
      "text/plain": [
       "<matplotlib.figure.Figure at 0x1131fb6d8>"
      ]
     },
     "metadata": {},
     "output_type": "display_data"
    }
   ],
   "source": [
    "N = df1.count()\n",
    "\n",
    "fig = plt.figure()\n",
    "ax = fig.add_subplot(111, projection='polar')\n",
    "c = ax.scatter(df1['EXIT_DIRECTION'], df1['HIT_DISTANCE'])\n",
    "\n",
    "\n",
    "ax.set_theta_direction(-1)\n",
    "ax.set_theta_zero_location('N')\n",
    "\n",
    "ax.set_thetamin(-45)\n",
    "ax.set_thetamax(45)"
   ]
  }
 ],
 "metadata": {
  "kernelspec": {
   "display_name": "Python 2",
   "language": "python",
   "name": "python2"
  },
  "language_info": {
   "codemirror_mode": {
    "name": "ipython",
    "version": 3
   },
   "file_extension": ".py",
   "mimetype": "text/x-python",
   "name": "python",
   "nbconvert_exporter": "python",
   "pygments_lexer": "ipython3",
   "version": "3.6.4"
  }
 },
 "nbformat": 4,
 "nbformat_minor": 2
}
